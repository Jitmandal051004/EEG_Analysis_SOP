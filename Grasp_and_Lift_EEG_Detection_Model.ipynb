{
  "nbformat": 4,
  "nbformat_minor": 0,
  "metadata": {
    "colab": {
      "provenance": [],
      "gpuType": "T4",
      "authorship_tag": "ABX9TyPklihbmwBqa02w7DSGEnzJ",
      "include_colab_link": true
    },
    "kernelspec": {
      "name": "python3",
      "display_name": "Python 3"
    },
    "language_info": {
      "name": "python"
    },
    "accelerator": "GPU"
  },
  "cells": [
    {
      "cell_type": "markdown",
      "metadata": {
        "id": "view-in-github",
        "colab_type": "text"
      },
      "source": [
        "<a href=\"https://colab.research.google.com/github/Jitmandal051004/EEG_Analysis_SOP/blob/main/Grasp_and_Lift_EEG_Detection_Model.ipynb\" target=\"_parent\"><img src=\"https://colab.research.google.com/assets/colab-badge.svg\" alt=\"Open In Colab\"/></a>"
      ]
    },
    {
      "cell_type": "code",
      "execution_count": 1,
      "metadata": {
        "id": "eqVct8TREqBn",
        "outputId": "f8185623-a9e0-4d43-9538-69250a058b19",
        "colab": {
          "base_uri": "https://localhost:8080/"
        }
      },
      "outputs": [
        {
          "output_type": "stream",
          "name": "stdout",
          "text": [
            "Please provide your Kaggle credentials to download this dataset. Learn more: http://bit.ly/kaggle-creds\n",
            "Your Kaggle username: jitmandal24\n",
            "Your Kaggle Key: ··········\n",
            "Extracting archive ./grasp-and-lift-eeg-detection/grasp-and-lift-eeg-detection.zip to ./grasp-and-lift-eeg-detection\n"
          ]
        }
      ],
      "source": [
        "!pip install opendatasets --quiet\n",
        "import opendatasets as od\n",
        "od.download(\"https://www.kaggle.com/competitions/grasp-and-lift-eeg-detection/data\")"
      ]
    },
    {
      "cell_type": "code",
      "source": [
        "import zipfile\n",
        "import os\n",
        "\n",
        "def extract_zip(zip_file, extract_folder):\n",
        "    with zipfile.ZipFile(zip_file, 'r') as zip_ref:\n",
        "        zip_ref.extractall(extract_folder)\n",
        "    print(f\"Files extracted to: {extract_folder}\")\n",
        "    os.remove(zip_file)\n",
        "    print(f\"Deleted {zip_file}\")\n",
        "\n",
        "file_paths = ['/content/grasp-and-lift-eeg-detection/train.zip', '/content/grasp-and-lift-eeg-detection/test.zip', \"/content/grasp-and-lift-eeg-detection/sample_submission.csv.zip\"]\n",
        "extract_folder = '/content/grasp-and-lift-eeg-detection'\n",
        "\n",
        "for zip_file in file_paths:\n",
        "    extract_zip(zip_file, extract_folder)\n"
      ],
      "metadata": {
        "id": "9G-LHpiSIfvQ",
        "outputId": "c6e45e5a-14ea-4e65-ce8e-89a8dbdf94e4",
        "colab": {
          "base_uri": "https://localhost:8080/"
        }
      },
      "execution_count": 4,
      "outputs": [
        {
          "output_type": "stream",
          "name": "stdout",
          "text": [
            "Files extracted to: /content/grasp-and-lift-eeg-detection\n",
            "Deleted /content/grasp-and-lift-eeg-detection/train.zip\n",
            "Files extracted to: /content/grasp-and-lift-eeg-detection\n",
            "Deleted /content/grasp-and-lift-eeg-detection/test.zip\n",
            "Files extracted to: /content/grasp-and-lift-eeg-detection\n",
            "Deleted /content/grasp-and-lift-eeg-detection/sample_submission.csv.zip\n"
          ]
        }
      ]
    },
    {
      "cell_type": "code",
      "source": [],
      "metadata": {
        "id": "pdf8E0dDK1Ce"
      },
      "execution_count": null,
      "outputs": []
    }
  ]
}